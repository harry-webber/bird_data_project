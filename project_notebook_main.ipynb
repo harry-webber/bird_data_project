{
 "cells": [
  {
   "cell_type": "markdown",
   "id": "08506706-4ef9-4086-8dcd-d4ac579d13a1",
   "metadata": {},
   "source": [
    "# BBS Bird Species Project"
   ]
  },
  {
   "cell_type": "markdown",
   "id": "4ad9dbd8-ed02-4fe1-ade7-b726eba76364",
   "metadata": {
    "jp-MarkdownHeadingCollapsed": true
   },
   "source": [
    "## 1. Import Libraries"
   ]
  },
  {
   "cell_type": "code",
   "execution_count": null,
   "id": "f23c9465-3ac4-4548-aac2-dd65497f3572",
   "metadata": {},
   "outputs": [],
   "source": [
    "# pip install geopandas\n",
    "# pip install fuzzywuzzy\n",
    "# pip install folium\n",
    "# pip install python-Levenshtein\n",
    "# pip install streamlit streamlit-folium"
   ]
  },
  {
   "cell_type": "code",
   "execution_count": null,
   "id": "10458d8b-0fe1-415c-8dbe-ccd4840ec441",
   "metadata": {},
   "outputs": [],
   "source": [
    "import pandas as pd\n",
    "import numpy as np\n",
    "import matplotlib.pyplot as plt\n",
    "import seaborn as sns\n",
    "import geopandas as gpd\n",
    "\n",
    "from shapely.geometry import Point"
   ]
  },
  {
   "cell_type": "code",
   "execution_count": null,
   "id": "93bd1631-a2bd-4f55-9d02-cd6df843270e",
   "metadata": {},
   "outputs": [],
   "source": [
    "import folium\n",
    "from folium.plugins import HeatMap       # for more interactive heatmaps\n",
    "\n",
    "# import fuzzywuzzy\n",
    "# from fuzzywuzzy import process           # for NLP in the input validation process"
   ]
  },
  {
   "cell_type": "markdown",
   "id": "51fa4010-61a4-450b-96f2-3bf33a0bdb44",
   "metadata": {
    "jp-MarkdownHeadingCollapsed": true
   },
   "source": [
    "## 2. Load and Combine Datasets"
   ]
  },
  {
   "cell_type": "code",
   "execution_count": null,
   "id": "aaf64f63-6f0f-4b56-85af-72ac460a15e7",
   "metadata": {},
   "outputs": [],
   "source": [
    "birds = pd.read_csv(\"BBS_bird_dataset.csv\")"
   ]
  },
  {
   "cell_type": "code",
   "execution_count": null,
   "id": "8cfeb670-326f-4e9b-951d-47a20e54eee5",
   "metadata": {},
   "outputs": [],
   "source": [
    "visits = pd.read_csv(\"BBS_visit_dataset.csv\")"
   ]
  },
  {
   "cell_type": "code",
   "execution_count": null,
   "id": "61adaddf-90db-45e5-8553-a24c3c0d0ea9",
   "metadata": {},
   "outputs": [],
   "source": [
    "birds.head()"
   ]
  },
  {
   "cell_type": "code",
   "execution_count": null,
   "id": "3b9c5498-baed-4589-bda5-0037a02e5829",
   "metadata": {},
   "outputs": [],
   "source": [
    "birds['total_obs'] = birds[['section_1', 'section_2', 'section_3', 'section_4', 'section_5', 'section_6', 'section_7', 'section_8', 'section_9', 'section_10']].sum(axis=1)"
   ]
  },
  {
   "cell_type": "code",
   "execution_count": null,
   "id": "d48a1cea-21ec-4f0f-aec4-171d87965938",
   "metadata": {},
   "outputs": [],
   "source": [
    "birds.head()"
   ]
  },
  {
   "cell_type": "code",
   "execution_count": null,
   "id": "22fd9dd0-f11a-41ff-9292-ef44f3681990",
   "metadata": {},
   "outputs": [],
   "source": [
    "birds = birds.drop(['section_1', 'section_2', 'section_3', 'section_4', 'section_5', 'section_6', 'section_7', 'section_8', 'section_9', 'section_10'], axis=1)"
   ]
  },
  {
   "cell_type": "code",
   "execution_count": null,
   "id": "21915346-e067-49b1-8fc5-a1229ebf8897",
   "metadata": {},
   "outputs": [],
   "source": [
    "birds.head()"
   ]
  },
  {
   "cell_type": "code",
   "execution_count": null,
   "id": "d98d5b39-67cf-4e51-9432-d96e4208ecd0",
   "metadata": {},
   "outputs": [],
   "source": [
    "sightings = pd.merge(birds, visits, on=['year', 'square', 'visit'])"
   ]
  },
  {
   "cell_type": "code",
   "execution_count": null,
   "id": "b7f6da60-23be-4a59-94af-4b4885ac1743",
   "metadata": {},
   "outputs": [],
   "source": [
    "sightings.head()"
   ]
  },
  {
   "cell_type": "code",
   "execution_count": null,
   "id": "8c239028-5bfa-4aaf-b998-7c85b5474a51",
   "metadata": {},
   "outputs": [],
   "source": [
    "sightings = sightings.drop(columns = ['parent_square'])"
   ]
  },
  {
   "cell_type": "code",
   "execution_count": null,
   "id": "a63054bf-c9e6-44b2-bf28-9989a14517de",
   "metadata": {},
   "outputs": [],
   "source": [
    "sightings.head()"
   ]
  },
  {
   "cell_type": "markdown",
   "id": "569c6b84-d596-4ceb-9e38-2cd1d8b89f76",
   "metadata": {},
   "source": [
    "> **TO DO: I still need to add in the latitude/longitude data and the actual species names**"
   ]
  },
  {
   "cell_type": "code",
   "execution_count": null,
   "id": "f5a81dc1-433e-4397-9a67-b2bd1858ba7f",
   "metadata": {},
   "outputs": [],
   "source": [
    "coordinates = pd.read_csv('grid_square_coordinates_lookup.csv')"
   ]
  },
  {
   "cell_type": "code",
   "execution_count": null,
   "id": "6fd06a7f-5cf6-4ee6-ba83-6f1a96ff8aea",
   "metadata": {},
   "outputs": [],
   "source": [
    "sightings = sightings.merge(coordinates[['square', 'ETRS89Lat', 'ETRS89Long']], \n",
    "                      on='square',        # grid square as the unique key\n",
    "                      how='left')         # keep all rows in birds, adding species name"
   ]
  },
  {
   "cell_type": "code",
   "execution_count": null,
   "id": "d3217a03-c326-4e7b-9efc-511b4242f397",
   "metadata": {},
   "outputs": [],
   "source": [
    "sightings.head()"
   ]
  },
  {
   "cell_type": "code",
   "execution_count": null,
   "id": "30906b95-cc80-4e0d-ba2c-1264e7801a71",
   "metadata": {},
   "outputs": [],
   "source": [
    "species = pd.read_csv('species_lookup.csv')"
   ]
  },
  {
   "cell_type": "code",
   "execution_count": null,
   "id": "79343063-5526-4fcc-9110-0a3e4bb5797f",
   "metadata": {},
   "outputs": [],
   "source": [
    "sightings = sightings.merge(species[['species_code', 'English_name']], \n",
    "                      on='species_code',       # species code is the key\n",
    "                      how='left')              # keep all rows in birds, adding species name"
   ]
  },
  {
   "cell_type": "code",
   "execution_count": null,
   "id": "91b4e0c0-74a8-4513-b02d-c0400c1424b0",
   "metadata": {},
   "outputs": [],
   "source": [
    "sightings.head()"
   ]
  },
  {
   "cell_type": "markdown",
   "id": "d71726c8-828e-4e94-9822-f59d50cd52e1",
   "metadata": {
    "jp-MarkdownHeadingCollapsed": true
   },
   "source": [
    "## 3. Preview Data"
   ]
  },
  {
   "cell_type": "code",
   "execution_count": null,
   "id": "e33bd5ed-b751-4060-81b9-49ffd3967e9f",
   "metadata": {},
   "outputs": [],
   "source": [
    "sightings.head()"
   ]
  },
  {
   "cell_type": "code",
   "execution_count": null,
   "id": "842d24ac-6771-4eb4-bf02-f4db615ad53e",
   "metadata": {},
   "outputs": [],
   "source": [
    "sightings.tail()"
   ]
  },
  {
   "cell_type": "code",
   "execution_count": null,
   "id": "5711d178-5c95-4ee6-aa8e-e2bb295f4e05",
   "metadata": {},
   "outputs": [],
   "source": [
    "sightings.info()"
   ]
  },
  {
   "cell_type": "code",
   "execution_count": null,
   "id": "5ad14a95-5535-4db1-b2da-4d7b92e85b22",
   "metadata": {},
   "outputs": [],
   "source": [
    "sightings.describe().apply(lambda x: x.apply('{0:.3f}'.format))   # display everything to 3 d.p."
   ]
  },
  {
   "cell_type": "markdown",
   "id": "c331a39c-5cbf-4177-99d3-8817328a4689",
   "metadata": {
    "jp-MarkdownHeadingCollapsed": true
   },
   "source": [
    "## 4. Data Cleaning and Preprocessing"
   ]
  },
  {
   "cell_type": "code",
   "execution_count": null,
   "id": "8f8b25d9-38c9-4097-9c2b-2f7d28f8972c",
   "metadata": {},
   "outputs": [],
   "source": [
    "sightings.isnull().sum()"
   ]
  },
  {
   "cell_type": "code",
   "execution_count": null,
   "id": "900b3f1a-2b19-4b3c-9681-febeaf8fcfdb",
   "metadata": {},
   "outputs": [],
   "source": [
    "sightings.dtypes"
   ]
  },
  {
   "cell_type": "markdown",
   "id": "af276541-7c05-48c2-a8d8-2695f4d95d2f",
   "metadata": {},
   "source": [
    "> **NULL HANDLING**\n",
    "> * distance_band: already has an 'F' and so is a categorical object basically -> can just use 'X' to denote missing data\n",
    "> * cloud, rain, wind, visibility are numerical with values: 1-3 meaning different levels -> can just fill '0' for no data entered?\n",
    "> * t1st, t1et, t2st, t2et could all be filled with their mean, mode, or **median**?"
   ]
  },
  {
   "cell_type": "code",
   "execution_count": null,
   "id": "69f300a4-66b8-404c-a98e-4e8f53bc4900",
   "metadata": {},
   "outputs": [],
   "source": [
    "print(f'the mean for start time of the first period is:{sightings.t1st.mean()}')\n",
    "print(f'the median for start time of the first period is:{sightings.t1st.median()}')\n",
    "print(f'the mode for start time of the first period is:{sightings.t1st.mode()}')"
   ]
  },
  {
   "cell_type": "code",
   "execution_count": null,
   "id": "ad8a6d7f-a211-44b9-8075-069ecad62025",
   "metadata": {},
   "outputs": [],
   "source": [
    "print(f'the mean for end time of the first period is:{sightings.t1et.mean()}')\n",
    "print(f'the median for end time of the first period is:{sightings.t1et.median()}')\n",
    "print(f'the mode for end time of the first period is:{sightings.t1et.mode()}')"
   ]
  },
  {
   "cell_type": "code",
   "execution_count": null,
   "id": "6a299a5a-04e5-439d-957d-ab07aeb8623a",
   "metadata": {},
   "outputs": [],
   "source": [
    "print(f'the mean for start time of the second period is:{sightings.t2st.mean()}')\n",
    "print(f'the median for start time of the second period is:{sightings.t2st.median()}')\n",
    "print(f'the mode for start time of the second period is:{sightings.t2st.mode()}')"
   ]
  },
  {
   "cell_type": "code",
   "execution_count": null,
   "id": "7772a1b6-7fbe-413f-ae43-089ffd2b07f8",
   "metadata": {},
   "outputs": [],
   "source": [
    "print(f'the mean for end time of the second period is:{sightings.t2et.mean()}')\n",
    "print(f'the median for end time of the second period is:{sightings.t2et.median()}')\n",
    "print(f'the mode for end time of the second period is:{sightings.t2et.mode()}')"
   ]
  },
  {
   "cell_type": "code",
   "execution_count": null,
   "id": "3b4af9f3-0377-4f64-b24a-defdd14cf73a",
   "metadata": {},
   "outputs": [],
   "source": [
    "sightings['distance_band'] = sightings['distance_band'].fillna('X')"
   ]
  },
  {
   "cell_type": "code",
   "execution_count": null,
   "id": "05a49e08-1341-4798-a09a-f5b0fef0cf12",
   "metadata": {},
   "outputs": [],
   "source": [
    "sightings.isnull().sum()"
   ]
  },
  {
   "cell_type": "code",
   "execution_count": null,
   "id": "99357353-6d7a-428f-8cdf-748f2e547d92",
   "metadata": {},
   "outputs": [],
   "source": [
    "sightings['cloud'] = sightings['cloud'].fillna(0)\n",
    "sightings['rain'] = sightings['rain'].fillna(0)\n",
    "sightings['wind'] = sightings['wind'].fillna(0)\n",
    "sightings['visibility'] = sightings['visibility'].fillna(0)"
   ]
  },
  {
   "cell_type": "code",
   "execution_count": null,
   "id": "03df779e-2041-4b5b-bfae-0d72c2f85979",
   "metadata": {},
   "outputs": [],
   "source": [
    "sightings.isnull().sum()"
   ]
  },
  {
   "cell_type": "code",
   "execution_count": null,
   "id": "dd302163-b412-44ff-884f-62cdf6f5755e",
   "metadata": {},
   "outputs": [],
   "source": [
    "## Fill the timings with the median of each period\n",
    "\n",
    "sightings['t1st'] = sightings['t1st'].fillna(648)\n",
    "sightings['t1et'] = sightings['t1et'].fillna(735)\n",
    "sightings['t2st'] = sightings['t2st'].fillna(745)\n",
    "sightings['t2et'] = sightings['t2et'].fillna(830)"
   ]
  },
  {
   "cell_type": "code",
   "execution_count": null,
   "id": "4cad9438-f3e6-45ac-9998-cc160c2f3dd6",
   "metadata": {},
   "outputs": [],
   "source": [
    "sightings.isnull().sum()"
   ]
  },
  {
   "cell_type": "code",
   "execution_count": null,
   "id": "0dc3f34c-9a48-4a76-a88c-9cd074165425",
   "metadata": {},
   "outputs": [],
   "source": [
    "sightings.dtypes"
   ]
  },
  {
   "cell_type": "code",
   "execution_count": null,
   "id": "424e1dd4-d5b7-441d-86ae-f63b681530fa",
   "metadata": {},
   "outputs": [],
   "source": [
    "sightings.tail()"
   ]
  },
  {
   "cell_type": "code",
   "execution_count": null,
   "id": "52cf39cc-3579-4ab8-a17c-03c723fac594",
   "metadata": {},
   "outputs": [],
   "source": [
    "sightings['date'] = pd.to_datetime(sightings['date'])"
   ]
  },
  {
   "cell_type": "code",
   "execution_count": null,
   "id": "7c7f33b0-c060-4c25-a60c-26a17adf86b3",
   "metadata": {},
   "outputs": [],
   "source": [
    "sightings.dtypes"
   ]
  },
  {
   "cell_type": "markdown",
   "id": "5da0e618-f8f5-463b-a891-bc82f87f8262",
   "metadata": {
    "jp-MarkdownHeadingCollapsed": true
   },
   "source": [
    "## 5. Exploratory Data Analysis (EDA)"
   ]
  },
  {
   "cell_type": "code",
   "execution_count": null,
   "id": "31f401ec-a5f8-4f34-90e8-524faf9753f2",
   "metadata": {},
   "outputs": [],
   "source": [
    "# Count of observations per species\n",
    "species_counts = sightings['English_name'].value_counts()\n",
    "print(species_counts)"
   ]
  },
  {
   "cell_type": "code",
   "execution_count": null,
   "id": "d91baa4c-6ba3-49a0-9225-44d6fdf843ab",
   "metadata": {},
   "outputs": [],
   "source": [
    "species_counts[species_counts > 1000]"
   ]
  },
  {
   "cell_type": "code",
   "execution_count": null,
   "id": "e29761bf-2f24-448a-ba80-66ebd520cb5e",
   "metadata": {},
   "outputs": [],
   "source": [
    "## Check the species with only 3 or fewer observations\n",
    "\n",
    "least_common = species_counts[species_counts < 4]"
   ]
  },
  {
   "cell_type": "code",
   "execution_count": null,
   "id": "33cefa88-1a69-42bd-ae5f-df8b7fe84c76",
   "metadata": {},
   "outputs": [],
   "source": [
    "least_common.shape # how many?"
   ]
  },
  {
   "cell_type": "code",
   "execution_count": null,
   "id": "497f1456-887a-4edb-9b88-3ab1bc9d061d",
   "metadata": {},
   "outputs": [],
   "source": [
    "least_common.to_frame() # convert to a dataframe (tabular format -> to include in presentation)"
   ]
  },
  {
   "cell_type": "code",
   "execution_count": null,
   "id": "e484fd5a-cc4d-4af9-b7fc-caaedca8e7d6",
   "metadata": {},
   "outputs": [],
   "source": [
    "common_species = species_counts[species_counts > 200000]       # choose only the most popular species\n",
    "\n",
    "plt.figure(figsize=(12,6))\n",
    "sns.barplot(x = common_species.index, y = common_species.values, color = 'darkorange')\n",
    "\n",
    "plt.xticks(rotation=90) # rotate labels so they are readable\n",
    "plt.title('Species Abundance')\n",
    "plt.xlabel('Species')\n",
    "plt.ylabel('Count')\n",
    "\n",
    "plt.show()"
   ]
  },
  {
   "cell_type": "markdown",
   "id": "fbb4f0e9-4228-452d-bd11-a01384b30f09",
   "metadata": {
    "jp-MarkdownHeadingCollapsed": true
   },
   "source": [
    "## 6. Spatial/Geographical Analysis Preparation"
   ]
  },
  {
   "cell_type": "code",
   "execution_count": null,
   "id": "6739375a-b932-438b-aa3e-de3a7d1ab3f8",
   "metadata": {},
   "outputs": [],
   "source": [
    "sightings.head()"
   ]
  },
  {
   "cell_type": "code",
   "execution_count": null,
   "id": "c25ca665-e588-4027-a643-3a7665f5c1cf",
   "metadata": {},
   "outputs": [],
   "source": [
    "# Convert pandas DataFrame to GeoDataFrame\n",
    "\n",
    "gdf = gpd.GeoDataFrame(\n",
    "    sightings,\n",
    "    geometry=gpd.points_from_xy(sightings.ETRS89Long, sightings.ETRS89Lat),       # create a geometry column from the longitude and latitude\n",
    "    crs=\"EPSG:4326\"                                                               # this is the standard coordinate system for latitude/longitude coordinates\n",
    ")"
   ]
  },
  {
   "cell_type": "code",
   "execution_count": null,
   "id": "bdd205b9-0208-4705-805f-846452ed197d",
   "metadata": {},
   "outputs": [],
   "source": [
    "world_map = gpd.read_file(\"https://naciscdn.org/naturalearth/110m/cultural/ne_110m_admin_0_countries.zip\")      # read in a geometry shape file of country outlines"
   ]
  },
  {
   "cell_type": "code",
   "execution_count": null,
   "id": "883b27d0-088e-47aa-8e3d-55124f2a1aba",
   "metadata": {},
   "outputs": [],
   "source": [
    "uk = world_map[world_map.ADMIN == 'United Kingdom']       # create a mask for only the UK map"
   ]
  },
  {
   "cell_type": "markdown",
   "id": "37444674-c55d-4481-b762-8c1a6bdf4adf",
   "metadata": {
    "jp-MarkdownHeadingCollapsed": true
   },
   "source": [
    "## 7. Visualise Species Distribution with Maps"
   ]
  },
  {
   "cell_type": "code",
   "execution_count": null,
   "id": "50176de5-c21f-4593-97ab-e8345186e674",
   "metadata": {},
   "outputs": [],
   "source": [
    "## Define a function to plot all sighting locations for a given species\n",
    "## where the function input is the species name as a string\n",
    "## function output will be be the uk map with the sighting locations of that species\n",
    "\n",
    "def species_locations_map(species_name: str):\n",
    "\n",
    "    # plot a UK base map\n",
    "    uk_map = uk.plot(color='white', edgecolor='black')\n",
    "    \n",
    "    gdf[gdf['English_name'] == species_name].plot(ax=uk_map, color='darkorange')\n",
    "    plt.show()\n",
    "    return"
   ]
  },
  {
   "cell_type": "code",
   "execution_count": null,
   "id": "95c5877d-3e36-4763-b234-ce84b1df07a6",
   "metadata": {},
   "outputs": [],
   "source": [
    "species_locations_map('Woodlark')"
   ]
  },
  {
   "cell_type": "code",
   "execution_count": null,
   "id": "ee133e1e-0984-4cec-a006-87a1e5a87774",
   "metadata": {},
   "outputs": [],
   "source": [
    "species_locations_map('Bar-tailed Godwit')"
   ]
  },
  {
   "cell_type": "code",
   "execution_count": null,
   "id": "7af9536a-9f01-44b7-9159-b8aaf79ac740",
   "metadata": {},
   "outputs": [],
   "source": [
    "## Define a function to plot a folium heatmap for a given species\n",
    "\n",
    "def species_heatmap(species_name: str):\n",
    " \n",
    "    # Find the subset of the data for the given species\n",
    "    species_df = gdf[gdf['English_name'] == species_name]\n",
    "    \n",
    "    # Create a base map object centered around mean lat/lon\n",
    "    m = folium.Map(location = [species_df['ETRS89Lat'].mean(), species_df['ETRS89Long'].mean()], zoom_start=6)\n",
    "\n",
    "    # Create list of [lat, lon] for heatmap points\n",
    "    heat_data = species_df[['ETRS89Lat', 'ETRS89Long']].values.tolist()\n",
    "    \n",
    "    # Add heatmap layer\n",
    "    HeatMap(heat_data).add_to(m)\n",
    "    \n",
    "    # Return/display the map\n",
    "    return m"
   ]
  },
  {
   "cell_type": "code",
   "execution_count": null,
   "id": "db702318-c806-41be-a368-959306813d11",
   "metadata": {},
   "outputs": [],
   "source": [
    "species_heatmap('Arctic Tern')"
   ]
  },
  {
   "cell_type": "markdown",
   "id": "8e46dae4-5fcf-4207-964e-7453d0dc5806",
   "metadata": {
    "jp-MarkdownHeadingCollapsed": true
   },
   "source": [
    "## 8. Observations by Region"
   ]
  },
  {
   "cell_type": "markdown",
   "id": "66a6c869-c08f-4610-9ed4-847a6d49789f",
   "metadata": {},
   "source": [
    "![BBS Regions](region_map.png)"
   ]
  },
  {
   "cell_type": "code",
   "execution_count": null,
   "id": "76bd9060-0fe9-44e1-a88e-603e71392ac2",
   "metadata": {},
   "outputs": [],
   "source": [
    "sightings.head()"
   ]
  },
  {
   "cell_type": "code",
   "execution_count": null,
   "id": "b791b8be-f8da-4b3c-8a85-21f10008a21f",
   "metadata": {},
   "outputs": [],
   "source": [
    "sightings['area_code'] = sightings['square'].str[:2]   # the first two letters of the 'square' column indicate the map area"
   ]
  },
  {
   "cell_type": "code",
   "execution_count": null,
   "id": "6fe4b103-d979-4aff-a994-f80564f0a947",
   "metadata": {},
   "outputs": [],
   "source": [
    "sightings['region'] = sightings['square'].str[:1]      # the first letter of the 'square' column indicates the broader map region (S: South of England and Wales / W: Channel Islands etc.)"
   ]
  },
  {
   "cell_type": "code",
   "execution_count": null,
   "id": "a14dae89-b1ba-45a9-a166-19cc3a96077f",
   "metadata": {},
   "outputs": [],
   "source": [
    "sightings.head()"
   ]
  },
  {
   "cell_type": "code",
   "execution_count": null,
   "id": "a8d4952d-c4c6-4b7a-93f8-3e23fd086020",
   "metadata": {},
   "outputs": [],
   "source": [
    "region_counts = sightings.groupby('region')['English_name'].count()    # species richness by region"
   ]
  },
  {
   "cell_type": "code",
   "execution_count": null,
   "id": "c68f9f82-273f-4d04-b556-dc8c187180bd",
   "metadata": {},
   "outputs": [],
   "source": [
    "plt.figure(figsize=(10,5))\n",
    "\n",
    "region_counts.plot(kind='bar')\n",
    "plt.title('Number of Observations by Region')\n",
    "plt.xlabel('Region')\n",
    "plt.ylabel('Observation Count')\n",
    "\n",
    "plt.show()"
   ]
  },
  {
   "cell_type": "code",
   "execution_count": null,
   "id": "9448fba4-7b75-49c2-b4ab-becda3654a73",
   "metadata": {},
   "outputs": [],
   "source": [
    "specific_area_counts = sightings.groupby('area_code')['English_name'].count()\n",
    "\n",
    "specific_area_counts = specific_area_counts.sort_values(ascending=False)"
   ]
  },
  {
   "cell_type": "code",
   "execution_count": null,
   "id": "7f0afa55-d070-4848-88ae-22204a923a1b",
   "metadata": {},
   "outputs": [],
   "source": [
    "plt.figure(figsize=(10,5))\n",
    "\n",
    "specific_area_counts.plot(kind='bar')\n",
    "plt.title('Number of Observations by Area')\n",
    "plt.xlabel('Area Code')\n",
    "plt.ylabel('Observation Count')\n",
    "\n",
    "plt.show()"
   ]
  },
  {
   "cell_type": "markdown",
   "id": "0e4e16eb-c4c0-4102-bf8a-9c714c76cbb5",
   "metadata": {
    "jp-MarkdownHeadingCollapsed": true
   },
   "source": [
    "## 9. Species Numbers over Time"
   ]
  },
  {
   "cell_type": "code",
   "execution_count": null,
   "id": "bab6b8b0-d0c6-499c-bcba-dc41652dc0e6",
   "metadata": {},
   "outputs": [],
   "source": [
    "sightings.head()"
   ]
  },
  {
   "cell_type": "code",
   "execution_count": null,
   "id": "adafeedc-967b-474f-8447-ebfabd58e3e1",
   "metadata": {},
   "outputs": [],
   "source": [
    "prevalence = sightings.copy()"
   ]
  },
  {
   "cell_type": "code",
   "execution_count": null,
   "id": "fa8b3eea-231b-4caa-b0cd-f2ba8c15c010",
   "metadata": {},
   "outputs": [],
   "source": [
    "## Drop irrelevant columns for this purpose\n",
    "\n",
    "prevalence = prevalence.drop(columns = ['square', 'visit', 'distance_band', 'date', 'observer', 'cloud', 'rain', 'wind', 'visibility', 't1st', 't1et', 't2st', 't2et', 'ETRS89Lat', 'ETRS89Long', 'region'])"
   ]
  },
  {
   "cell_type": "code",
   "execution_count": null,
   "id": "542d0655-7dcb-46c6-9d49-3cafd8ed14c6",
   "metadata": {},
   "outputs": [],
   "source": [
    "prevalence.head()"
   ]
  },
  {
   "cell_type": "code",
   "execution_count": null,
   "id": "cec6318e-64d5-4e78-901b-ec538530db77",
   "metadata": {},
   "outputs": [],
   "source": [
    "## Groupby year and species to see how many of each species were sighted in total during each year...\n",
    "\n",
    "species_counts_over_time = prevalence.groupby(by = ['year', 'species_code', 'English_name'])['total_obs'].sum().reset_index()"
   ]
  },
  {
   "cell_type": "code",
   "execution_count": null,
   "id": "5d1b9c30-e41d-483c-a051-2ec1386b3421",
   "metadata": {},
   "outputs": [],
   "source": [
    "species_counts_over_time.head()"
   ]
  },
  {
   "cell_type": "code",
   "execution_count": null,
   "id": "a87ac747-893e-4629-9551-8edc87797f25",
   "metadata": {},
   "outputs": [],
   "source": [
    "## Define a function to produce a time series graph for a given species (where input is the species name)\n",
    "\n",
    "def species_time_series(species_name):\n",
    "    temp_df = species_counts_over_time.copy()\n",
    "\n",
    "    if species_name in temp_df['English_name'].values:\n",
    "        # Find the subset of the data for the given species\n",
    "        temp_species_info = temp_df[temp_df['English_name'] == species_name].copy()\n",
    "\n",
    "        # Calculate 5-year moving average on the 'value' column\n",
    "        temp_species_info['5y_average'] = temp_species_info['total_obs'].rolling(window=5, min_periods=1).mean()\n",
    "\n",
    "        # Plot original values and smoothed values\n",
    "        sns.lineplot(x='year', y='total_obs', data=temp_species_info, label='Original')\n",
    "        sns.lineplot(x='year', y='5y_average', data=temp_species_info, label='5-Year Average')\n",
    "    \n",
    "        # sns.lineplot(x = 'year', y = 'total_obs', data = temp_species_info, marker = 'o')\n",
    "        plt.xlabel('Year')\n",
    "        plt.ylabel('Number Observed')\n",
    "        plt.title(f'{species_name} Observations over time')\n",
    "        plt.legend()\n",
    "        plt.grid(True)\n",
    "        plt.show()\n",
    "\n",
    "    else: print(f'Species name: \"{species_name}\" is not in the dataset.')\n",
    "    \n",
    "    return"
   ]
  },
  {
   "cell_type": "code",
   "execution_count": null,
   "id": "1a3e3d4b-621b-42e9-8153-e3e0284823f7",
   "metadata": {},
   "outputs": [],
   "source": [
    "species_time_series('Hooded Crow')"
   ]
  },
  {
   "cell_type": "markdown",
   "id": "7fafe56d-af1d-4a5c-b89f-076158f18101",
   "metadata": {},
   "source": [
    "## Streamlit App"
   ]
  },
  {
   "cell_type": "markdown",
   "id": "30027c5f-fda9-4b0c-866a-7949abb31ef9",
   "metadata": {},
   "source": [
    "[BirdApp](https://birddataproject-kytphxsdcneks7odpinzss.streamlit.app/)"
   ]
  }
 ],
 "metadata": {
  "kernelspec": {
   "display_name": "Python [conda env:base] *",
   "language": "python",
   "name": "conda-base-py"
  },
  "language_info": {
   "codemirror_mode": {
    "name": "ipython",
    "version": 3
   },
   "file_extension": ".py",
   "mimetype": "text/x-python",
   "name": "python",
   "nbconvert_exporter": "python",
   "pygments_lexer": "ipython3",
   "version": "3.12.7"
  }
 },
 "nbformat": 4,
 "nbformat_minor": 5
}
